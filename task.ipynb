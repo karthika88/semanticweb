{
 "cells": [
  {
   "cell_type": "code",
   "execution_count": 48,
   "metadata": {},
   "outputs": [],
   "source": [
    "import pandas as pd\n"
   ]
  },
  {
   "cell_type": "code",
   "execution_count": 49,
   "metadata": {},
   "outputs": [
    {
     "name": "stdout",
     "output_type": "stream",
     "text": [
      "Index(['SL NO:', 'Dept. Name', 'Audit Unit Name', 'Period of last Audit',\n",
      "       'PARA NO. ', 'Audit Office', 'Para_ID', 'Para Subject',\n",
      "       'Observation Category Description', 'Observation Category', 'IIA/IIB',\n",
      "       'Monetory Amount', 'Recovery Amount', 'IR Despatch Date', 'Stage',\n",
      "       'Status', 'Query raised by', 'Query date', 'Response', 'Response date',\n",
      "       'Rejoinder date', 'Resource', 'File Type'],\n",
      "      dtype='object')\n"
     ]
    }
   ],
   "source": [
    "data_df=pd.read_csv(\"Categorisation.csv\", encoding='ISO-8859-1')\n",
    "print(data_df.columns)"
   ]
  },
  {
   "cell_type": "code",
   "execution_count": 50,
   "metadata": {},
   "outputs": [
    {
     "name": "stdout",
     "output_type": "stream",
     "text": [
      "                                        Para Subject Observation Category\n",
      "0  Short levy of clinical fees from Dr. Ambedakar...                    B\n",
      "1  Difference Amount of Clinical Fees in respect ...                    B\n",
      "2             Excess payment of electricity charges                     D\n",
      "3  Excess payment of sanitary charges to BWSSB Rs...                    D\n",
      "4  Non-collection of rent from shops let out in t...                    J\n"
     ]
    }
   ],
   "source": [
    "data=data_df[['Para Subject', 'Observation Category']]\n",
    "print(data.head())"
   ]
  },
  {
   "cell_type": "code",
   "execution_count": 51,
   "metadata": {},
   "outputs": [
    {
     "data": {
      "text/plain": [
       "array(['\\xa0B', '\\xa0D', 'J', 'D', 'B', 'E', 'I', 'F', '\\xa0F', '\\xa0J',\n",
       "       '\\xa0G', 'G', '\\xa0H', '\\xa0E', '\\xa0I', '\\xa0A', 'A', nan, 'C',\n",
       "       'B\\xa0', '\\xa0C', '\\xa0 B', 'F\\xa0'], dtype=object)"
      ]
     },
     "execution_count": 51,
     "metadata": {},
     "output_type": "execute_result"
    }
   ],
   "source": [
    "data['Observation Category'].unique()"
   ]
  },
  {
   "cell_type": "code",
   "execution_count": 52,
   "metadata": {},
   "outputs": [
    {
     "name": "stderr",
     "output_type": "stream",
     "text": [
      "c:\\Users\\vskar\\OneDrive\\Desktop\\semanticweb\\myenv\\lib\\site-packages\\pandas\\util\\_decorators.py:311: SettingWithCopyWarning: \n",
      "A value is trying to be set on a copy of a slice from a DataFrame\n",
      "\n",
      "See the caveats in the documentation: https://pandas.pydata.org/pandas-docs/stable/user_guide/indexing.html#returning-a-view-versus-a-copy\n",
      "  return func(*args, **kwargs)\n"
     ]
    }
   ],
   "source": [
    "data.dropna(subset=['Observation Category'], inplace=True, how='all')"
   ]
  },
  {
   "cell_type": "code",
   "execution_count": 53,
   "metadata": {},
   "outputs": [
    {
     "data": {
      "text/plain": [
       "array(['\\xa0B', '\\xa0D', 'J', 'D', 'B', 'E', 'I', 'F', '\\xa0F', '\\xa0J',\n",
       "       '\\xa0G', 'G', '\\xa0H', '\\xa0E', '\\xa0I', '\\xa0A', 'A', 'C',\n",
       "       'B\\xa0', '\\xa0C', '\\xa0 B', 'F\\xa0'], dtype=object)"
      ]
     },
     "execution_count": 53,
     "metadata": {},
     "output_type": "execute_result"
    }
   ],
   "source": [
    "data['Observation Category'].unique()"
   ]
  },
  {
   "cell_type": "code",
   "execution_count": 54,
   "metadata": {},
   "outputs": [
    {
     "name": "stderr",
     "output_type": "stream",
     "text": [
      "C:\\Users\\vskar\\AppData\\Local\\Temp/ipykernel_17036/4220181563.py:1: SettingWithCopyWarning: \n",
      "A value is trying to be set on a copy of a slice from a DataFrame.\n",
      "Try using .loc[row_indexer,col_indexer] = value instead\n",
      "\n",
      "See the caveats in the documentation: https://pandas.pydata.org/pandas-docs/stable/user_guide/indexing.html#returning-a-view-versus-a-copy\n",
      "  data['Observation Category']=data['Observation Category'].apply(\n"
     ]
    }
   ],
   "source": [
    "data['Observation Category']=data['Observation Category'].apply(\n",
    "    lambda s:''.join([c for c in s if c.isupper()])\n",
    ")"
   ]
  },
  {
   "cell_type": "code",
   "execution_count": 55,
   "metadata": {},
   "outputs": [
    {
     "data": {
      "text/plain": [
       "array(['B', 'D', 'J', 'E', 'I', 'F', 'G', 'H', 'A', 'C'], dtype=object)"
      ]
     },
     "execution_count": 55,
     "metadata": {},
     "output_type": "execute_result"
    }
   ],
   "source": [
    "data['Observation Category'].unique()\n"
   ]
  },
  {
   "cell_type": "code",
   "execution_count": 56,
   "metadata": {},
   "outputs": [
    {
     "data": {
      "text/plain": [
       "J    579\n",
       "F    347\n",
       "B    226\n",
       "I    134\n",
       "G    132\n",
       "D     99\n",
       "E     65\n",
       "C     14\n",
       "A      5\n",
       "H      1\n",
       "Name: Observation Category, dtype: int64"
      ]
     },
     "execution_count": 56,
     "metadata": {},
     "output_type": "execute_result"
    }
   ],
   "source": [
    "data['Observation Category'].value_counts()"
   ]
  },
  {
   "cell_type": "code",
   "execution_count": 57,
   "metadata": {},
   "outputs": [
    {
     "data": {
      "text/plain": [
       "38"
      ]
     },
     "execution_count": 57,
     "metadata": {},
     "output_type": "execute_result"
    }
   ],
   "source": [
    "data['Para Subject'].duplicated().sum()"
   ]
  },
  {
   "cell_type": "code",
   "execution_count": 58,
   "metadata": {},
   "outputs": [
    {
     "data": {
      "text/plain": [
       "(1602, 2)"
      ]
     },
     "execution_count": 58,
     "metadata": {},
     "output_type": "execute_result"
    }
   ],
   "source": [
    "data.shape"
   ]
  },
  {
   "cell_type": "code",
   "execution_count": 59,
   "metadata": {},
   "outputs": [],
   "source": [
    "data.drop_duplicates(keep='last', inplace=True, ignore_index=True, subset=['Para Subject'])"
   ]
  },
  {
   "cell_type": "code",
   "execution_count": 60,
   "metadata": {},
   "outputs": [
    {
     "data": {
      "text/plain": [
       "(1564, 2)"
      ]
     },
     "execution_count": 60,
     "metadata": {},
     "output_type": "execute_result"
    }
   ],
   "source": [
    "data.shape"
   ]
  },
  {
   "cell_type": "code",
   "execution_count": 61,
   "metadata": {},
   "outputs": [
    {
     "name": "stdout",
     "output_type": "stream",
     "text": [
      "my name is karthika\n"
     ]
    }
   ],
   "source": [
    "mine=\"my name is @karthika\"\n",
    "mine.isalpha()\n",
    "str1=''.join([i for i in mine if i.isalpha() or i==' '])\n",
    "print(str1)"
   ]
  },
  {
   "cell_type": "code",
   "execution_count": 62,
   "metadata": {},
   "outputs": [
    {
     "name": "stderr",
     "output_type": "stream",
     "text": [
      "C:\\Users\\vskar\\AppData\\Local\\Temp/ipykernel_17036/1588067980.py:1: SettingWithCopyWarning: \n",
      "A value is trying to be set on a copy of a slice from a DataFrame.\n",
      "Try using .loc[row_indexer,col_indexer] = value instead\n",
      "\n",
      "See the caveats in the documentation: https://pandas.pydata.org/pandas-docs/stable/user_guide/indexing.html#returning-a-view-versus-a-copy\n",
      "  data['Para Subject']=data['Para Subject'].apply(\n"
     ]
    }
   ],
   "source": [
    "data['Para Subject']=data['Para Subject'].apply(\n",
    "    lambda s:''.join([i for i in str(s) if i.isalnum() or i==' '])\n",
    ")"
   ]
  },
  {
   "cell_type": "code",
   "execution_count": 63,
   "metadata": {},
   "outputs": [
    {
     "data": {
      "text/plain": [
       "0       Short levy of clinical fees from Dr Ambedakar ...\n",
       "1       Difference Amount of Clinical Fees in respect ...\n",
       "2                  Excess payment of electricity charges \n",
       "3       Excess payment of sanitary charges to BWSSB Rs...\n",
       "4       Noncollection of rent from shops let out in th...\n",
       "                              ...                        \n",
       "1559    Omissions noticed in maintenance of service Re...\n",
       "1560    Nondeposit of ARS revenue receipts of Rs 5603 ...\n",
       "1561    Admissible Bank charges under Arogya Raksha Sa...\n",
       "1562    Unutilized scheme amount and Interest accumula...\n",
       "1563      Non deduction  Income tax at source TDS Rs 7240\n",
       "Name: Para Subject, Length: 1564, dtype: object"
      ]
     },
     "execution_count": 63,
     "metadata": {},
     "output_type": "execute_result"
    }
   ],
   "source": [
    "data['Para Subject']"
   ]
  },
  {
   "cell_type": "code",
   "execution_count": 64,
   "metadata": {},
   "outputs": [],
   "source": [
    "import nltk"
   ]
  },
  {
   "cell_type": "code",
   "execution_count": 65,
   "metadata": {},
   "outputs": [],
   "source": [
    "def remove_stopword(text):\n",
    "    stopword=nltk.corpus.stopwords.words('english')\n",
    "    stopword.remove('not')\n",
    "    a=[w for w in nltk.word_tokenize(text) if w not in stopword]\n",
    "    return ' '.join(a)\n"
   ]
  },
  {
   "cell_type": "code",
   "execution_count": 66,
   "metadata": {},
   "outputs": [
    {
     "name": "stderr",
     "output_type": "stream",
     "text": [
      "C:\\Users\\vskar\\AppData\\Local\\Temp/ipykernel_17036/2541523923.py:1: SettingWithCopyWarning: \n",
      "A value is trying to be set on a copy of a slice from a DataFrame.\n",
      "Try using .loc[row_indexer,col_indexer] = value instead\n",
      "\n",
      "See the caveats in the documentation: https://pandas.pydata.org/pandas-docs/stable/user_guide/indexing.html#returning-a-view-versus-a-copy\n",
      "  data['Para Subject'] = data['Para Subject'].apply(remove_stopword)\n"
     ]
    }
   ],
   "source": [
    "data['Para Subject'] = data['Para Subject'].apply(remove_stopword)"
   ]
  },
  {
   "cell_type": "code",
   "execution_count": 67,
   "metadata": {},
   "outputs": [],
   "source": [
    "X=data['Para Subject']\n",
    "y=data['Observation Category']"
   ]
  },
  {
   "cell_type": "code",
   "execution_count": 68,
   "metadata": {},
   "outputs": [],
   "source": [
    "from sklearn.model_selection import train_test_split\n",
    "X_train, X_test, y_train, y_test = train_test_split(X, y, test_size=0.33, random_state=42)"
   ]
  },
  {
   "cell_type": "code",
   "execution_count": 69,
   "metadata": {},
   "outputs": [],
   "source": [
    "from sklearn.feature_extraction.text import TfidfVectorizer\n",
    "vectr = TfidfVectorizer(ngram_range=(1,2),min_df=1)\n",
    "vectr.fit(X_train)\n",
    "vect_X = vectr.transform(X_train)"
   ]
  },
  {
   "cell_type": "code",
   "execution_count": 70,
   "metadata": {},
   "outputs": [],
   "source": [
    "import pickle\n",
    "pickle.dump(vectr.vocabulary_,open(\"feature.pkl\",\"wb\"))"
   ]
  },
  {
   "cell_type": "code",
   "execution_count": 71,
   "metadata": {},
   "outputs": [
    {
     "data": {
      "text/plain": [
       "<1047x6165 sparse matrix of type '<class 'numpy.float64'>'\n",
       "\twith 13886 stored elements in Compressed Sparse Row format>"
      ]
     },
     "execution_count": 71,
     "metadata": {},
     "output_type": "execute_result"
    }
   ],
   "source": [
    "vect_X"
   ]
  },
  {
   "cell_type": "code",
   "execution_count": 72,
   "metadata": {},
   "outputs": [],
   "source": [
    "from sklearn import preprocessing\n",
    "label_encoder = preprocessing.LabelEncoder()\n",
    "output= label_encoder.fit_transform(y_train)\n"
   ]
  },
  {
   "cell_type": "code",
   "execution_count": 73,
   "metadata": {},
   "outputs": [],
   "source": [
    "import numpy as np\n",
    "np.save('classes.npy', label_encoder.classes_)"
   ]
  },
  {
   "cell_type": "code",
   "execution_count": 74,
   "metadata": {},
   "outputs": [
    {
     "name": "stdout",
     "output_type": "stream",
     "text": [
      "83.85864374403056\n"
     ]
    }
   ],
   "source": [
    "from sklearn.linear_model import LogisticRegression\n",
    "model = LogisticRegression()\n",
    "clf=model.fit(vect_X,output)\n",
    "print(clf.score(vect_X,output)*100)"
   ]
  },
  {
   "cell_type": "code",
   "execution_count": 75,
   "metadata": {},
   "outputs": [
    {
     "name": "stdout",
     "output_type": "stream",
     "text": [
      "74.11652340019103\n"
     ]
    }
   ],
   "source": [
    "from sklearn.neighbors import KNeighborsClassifier\n",
    "knn_clf=KNeighborsClassifier()\n",
    "knn_model=knn_clf.fit(vect_X,output)\n",
    "print(knn_model.score(vect_X,output)*100)\n"
   ]
  },
  {
   "cell_type": "code",
   "execution_count": 76,
   "metadata": {},
   "outputs": [
    {
     "name": "stdout",
     "output_type": "stream",
     "text": [
      "99.04489016236867\n"
     ]
    }
   ],
   "source": [
    "#Import Random Forest Model\n",
    "from sklearn.ensemble import RandomForestClassifier\n",
    "\n",
    "#Create a Gaussian Classifier\n",
    "rf_clf=RandomForestClassifier(n_estimators=100)\n",
    "\n",
    "#Train the model using the training sets y_pred=clf.predict(X_test)\n",
    "rf_clf.fit(vect_X,output)\n",
    "print(rf_clf.score(vect_X,output)*100)"
   ]
  },
  {
   "cell_type": "code",
   "execution_count": 77,
   "metadata": {},
   "outputs": [],
   "source": [
    "y_true=label_encoder.transform(y_test)\n",
    "y_pred=clf.predict(vectr.transform(X_test))\n",
    "knn_ypred=knn_clf.predict(vectr.transform(X_test))\n",
    "rf_ypred=rf_clf.predict(vectr.transform(X_test))"
   ]
  },
  {
   "cell_type": "code",
   "execution_count": 78,
   "metadata": {},
   "outputs": [
    {
     "name": "stdout",
     "output_type": "stream",
     "text": [
      "Testing accuracy of the model is: 62.0889748549323\n"
     ]
    }
   ],
   "source": [
    "from sklearn.metrics import accuracy_score\n",
    "print(f'Testing accuracy of the model is: {accuracy_score(y_true, y_pred)*100}')"
   ]
  },
  {
   "cell_type": "code",
   "execution_count": 79,
   "metadata": {},
   "outputs": [
    {
     "name": "stdout",
     "output_type": "stream",
     "text": [
      "Testing accuracy of the knn model is: 59.381044487427474\n"
     ]
    }
   ],
   "source": [
    "from sklearn.metrics import accuracy_score\n",
    "print(f'Testing accuracy of the knn model is: {accuracy_score(y_true, knn_ypred)*100}')"
   ]
  },
  {
   "cell_type": "code",
   "execution_count": 85,
   "metadata": {},
   "outputs": [
    {
     "name": "stdout",
     "output_type": "stream",
     "text": [
      "Testing accuracy of the knn model is: 63.63636363636363\n"
     ]
    }
   ],
   "source": [
    "from sklearn.metrics import accuracy_score\n",
    "print(f'Testing accuracy of the random forest model is: {accuracy_score(y_true, rf_ypred)*100}')"
   ]
  },
  {
   "cell_type": "code",
   "execution_count": 81,
   "metadata": {},
   "outputs": [
    {
     "name": "stderr",
     "output_type": "stream",
     "text": [
      "c:\\Users\\vskar\\OneDrive\\Desktop\\semanticweb\\myenv\\lib\\site-packages\\sklearn\\model_selection\\_split.py:676: UserWarning: The least populated class in y has only 1 members, which is less than n_splits=10.\n",
      "  warnings.warn(\n"
     ]
    },
    {
     "name": "stdout",
     "output_type": "stream",
     "text": [
      "Best p: 2\n",
      "Best n_neighbors: 9\n"
     ]
    }
   ],
   "source": [
    "\n",
    "from sklearn.model_selection import GridSearchCV\n",
    "n_neighbors = list(range(1,15))\n",
    "p=[1,2]\n",
    "hyperparameters = dict(n_neighbors=n_neighbors, p=p)\n",
    "knn_2 = KNeighborsClassifier()\n",
    "clf = GridSearchCV(knn_2, hyperparameters, cv=10)\n",
    "best_model = clf.fit(vect_X,output)\n",
    "print('Best p:', best_model.best_estimator_.get_params()['p'])\n",
    "print('Best n_neighbors:', best_model.best_estimator_.get_params()['n_neighbors'])"
   ]
  },
  {
   "cell_type": "code",
   "execution_count": 82,
   "metadata": {},
   "outputs": [
    {
     "name": "stdout",
     "output_type": "stream",
     "text": [
      "71.53772683858644\n"
     ]
    }
   ],
   "source": [
    "from sklearn.neighbors import KNeighborsClassifier\n",
    "knn_clf=KNeighborsClassifier(n_neighbors=10, p=2)\n",
    "knn_model=knn_clf.fit(vect_X,output)\n",
    "print(knn_model.score(vect_X,output)*100)"
   ]
  },
  {
   "cell_type": "code",
   "execution_count": 94,
   "metadata": {},
   "outputs": [
    {
     "name": "stdout",
     "output_type": "stream",
     "text": [
      "[[  0   0   0   0   0   0   0   0   3]\n",
      " [  0  51   0   1   0   1   0   0  12]\n",
      " [  0   1   0   0   0   0   0   0   0]\n",
      " [  0   2   0  17   0   2   0   0   6]\n",
      " [  0   1   0   4   1   3   1   0  11]\n",
      " [  0   3   0   1   0  54   0   2  64]\n",
      " [  0   0   0   0   0   1  25   1  10]\n",
      " [  0   1   0   0   0   4   3   7  30]\n",
      " [  0   7   0   0   0  18   1   2 166]]\n"
     ]
    }
   ],
   "source": [
    "from sklearn.metrics import confusion_matrix\n",
    "prediction = label_encoder.inverse_transform(y_pred)\n",
    "cf_matrix=confusion_matrix(y_test, prediction)\n",
    "print(cf_matrix)"
   ]
  },
  {
   "cell_type": "code",
   "execution_count": 95,
   "metadata": {},
   "outputs": [
    {
     "data": {
      "text/plain": [
       "<AxesSubplot:>"
      ]
     },
     "execution_count": 95,
     "metadata": {},
     "output_type": "execute_result"
    },
    {
     "data": {
      "image/png": "[encoded data removed]",
      "text/plain": [
       "<Figure size 432x288 with 2 Axes>"
      ]
     },
     "metadata": {
      "needs_background": "light"
     },
     "output_type": "display_data"
    }
   ],
   "source": [
    "import seaborn as sns\n",
    "sns.heatmap(cf_matrix, annot=True)"
   ]
  },
  {
   "cell_type": "code",
   "execution_count": 99,
   "metadata": {},
   "outputs": [
    {
     "name": "stdout",
     "output_type": "stream",
     "text": [
      "Precision and Recall is 0.732685093998184, 0.39824991857286873 respectively\n"
     ]
    },
    {
     "name": "stderr",
     "output_type": "stream",
     "text": [
      "C:\\Users\\vskar\\AppData\\Local\\Temp/ipykernel_17036/1645992119.py:2: RuntimeWarning: invalid value encountered in true_divide\n",
      "  precision = np.diag(cf_matrix) / np.sum(cf_matrix, axis = 0)\n"
     ]
    }
   ],
   "source": [
    "recall = np.diag(cf_matrix) / np.sum(cf_matrix, axis = 1)\n",
    "precision = np.diag(cf_matrix) / np.sum(cf_matrix, axis = 0)\n",
    "precision = precision[np.logical_not(np.isnan(precision))]\n",
    "print(f'Precision and Recall is {np.mean(precision)}, {np.mean(recall)} respectively')"
   ]
  },
  {
   "cell_type": "code",
   "execution_count": 84,
   "metadata": {},
   "outputs": [
    {
     "data": {
      "text/plain": [
       "['model.pkl']"
      ]
     },
     "execution_count": 84,
     "metadata": {},
     "output_type": "execute_result"
    }
   ],
   "source": [
    "import joblib\n",
    "joblib.dump(clf, 'model.pkl')"
   ]
  }
 ],
 "metadata": {
  "interpreter": {
   "hash": "90dacb3592b949277f3b8fc5ee6ff3cd41278f35c54a30905b3d8d71cadf210f"
  },
  "kernelspec": {
   "display_name": "Python 3.8.5 64-bit ('myenv': venv)",
   "name": "python3"
  },
  "language_info": {
   "codemirror_mode": {
    "name": "ipython",
    "version": 3
   },
   "file_extension": ".py",
   "mimetype": "text/x-python",
   "name": "python",
   "nbconvert_exporter": "python",
   "pygments_lexer": "ipython3",
   "version": "3.8.5"
  },
  "orig_nbformat": 4
 },
 "nbformat": 4,
 "nbformat_minor": 2
}

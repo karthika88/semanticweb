{
 "cells": [
  {
   "cell_type": "code",
   "execution_count": 32,
   "source": [
    "import pandas as pd\r\n"
   ],
   "outputs": [],
   "metadata": {}
  },
  {
   "cell_type": "code",
   "execution_count": 33,
   "source": [
    "data_df=pd.read_csv(\"Categorisation.csv\", encoding='ISO-8859-1')\r\n",
    "print(data_df.columns)"
   ],
   "outputs": [
    {
     "output_type": "stream",
     "name": "stdout",
     "text": [
      "Index(['SL NO:', 'Dept. Name', 'Audit Unit Name', 'Period of last Audit',\n",
      "       'PARA NO. ', 'Audit Office', 'Para_ID', 'Para Subject',\n",
      "       'Observation Category Description', 'Observation Category', 'IIA/IIB',\n",
      "       'Monetory Amount', 'Recovery Amount', 'IR Despatch Date', 'Stage',\n",
      "       'Status', 'Query raised by', 'Query date', 'Response', 'Response date',\n",
      "       'Rejoinder date', 'Resource', 'File Type'],\n",
      "      dtype='object')\n"
     ]
    }
   ],
   "metadata": {}
  },
  {
   "cell_type": "code",
   "execution_count": 34,
   "source": [
    "data=data_df[['Para Subject', 'Observation Category']]\r\n",
    "print(data.head())"
   ],
   "outputs": [
    {
     "output_type": "stream",
     "name": "stdout",
     "text": [
      "                                        Para Subject Observation Category\n",
      "0  Short levy of clinical fees from Dr. Ambedakar...                    B\n",
      "1  Difference Amount of Clinical Fees in respect ...                    B\n",
      "2             Excess payment of electricity charges                     D\n",
      "3  Excess payment of sanitary charges to BWSSB Rs...                    D\n",
      "4  Non-collection of rent from shops let out in t...                    J\n"
     ]
    }
   ],
   "metadata": {}
  },
  {
   "cell_type": "code",
   "execution_count": 35,
   "source": [
    "data['Observation Category'].unique()"
   ],
   "outputs": [
    {
     "output_type": "execute_result",
     "data": {
      "text/plain": [
       "array(['\\xa0B', '\\xa0D', 'J', 'D', 'B', 'E', 'I', 'F', '\\xa0F', '\\xa0J',\n",
       "       '\\xa0G', 'G', '\\xa0H', '\\xa0E', '\\xa0I', '\\xa0A', 'A', nan, 'C',\n",
       "       'B\\xa0', '\\xa0C', '\\xa0 B', 'F\\xa0'], dtype=object)"
      ]
     },
     "metadata": {},
     "execution_count": 35
    }
   ],
   "metadata": {}
  },
  {
   "cell_type": "code",
   "execution_count": 36,
   "source": [
    "data.dropna(subset=['Observation Category'], inplace=True, how='all')"
   ],
   "outputs": [
    {
     "output_type": "stream",
     "name": "stderr",
     "text": [
      "c:\\Users\\vskar\\OneDrive\\Desktop\\semanticweb\\myenv\\lib\\site-packages\\pandas\\util\\_decorators.py:311: SettingWithCopyWarning: \n",
      "A value is trying to be set on a copy of a slice from a DataFrame\n",
      "\n",
      "See the caveats in the documentation: https://pandas.pydata.org/pandas-docs/stable/user_guide/indexing.html#returning-a-view-versus-a-copy\n",
      "  return func(*args, **kwargs)\n"
     ]
    }
   ],
   "metadata": {}
  },
  {
   "cell_type": "code",
   "execution_count": 37,
   "source": [
    "data['Observation Category'].unique()"
   ],
   "outputs": [
    {
     "output_type": "execute_result",
     "data": {
      "text/plain": [
       "array(['\\xa0B', '\\xa0D', 'J', 'D', 'B', 'E', 'I', 'F', '\\xa0F', '\\xa0J',\n",
       "       '\\xa0G', 'G', '\\xa0H', '\\xa0E', '\\xa0I', '\\xa0A', 'A', 'C',\n",
       "       'B\\xa0', '\\xa0C', '\\xa0 B', 'F\\xa0'], dtype=object)"
      ]
     },
     "metadata": {},
     "execution_count": 37
    }
   ],
   "metadata": {}
  },
  {
   "cell_type": "code",
   "execution_count": 38,
   "source": [
    "data['Observation Category']=data['Observation Category'].apply(\r\n",
    "    lambda s:''.join([c for c in s if c.isupper()])\r\n",
    ")"
   ],
   "outputs": [
    {
     "output_type": "stream",
     "name": "stderr",
     "text": [
      "C:\\Users\\vskar\\AppData\\Local\\Temp/ipykernel_14932/1180356795.py:1: SettingWithCopyWarning: \n",
      "A value is trying to be set on a copy of a slice from a DataFrame.\n",
      "Try using .loc[row_indexer,col_indexer] = value instead\n",
      "\n",
      "See the caveats in the documentation: https://pandas.pydata.org/pandas-docs/stable/user_guide/indexing.html#returning-a-view-versus-a-copy\n",
      "  data['Observation Category']=data['Observation Category'].apply(\n"
     ]
    }
   ],
   "metadata": {}
  },
  {
   "cell_type": "code",
   "execution_count": 39,
   "source": [
    "data['Observation Category'].unique()\r\n"
   ],
   "outputs": [
    {
     "output_type": "execute_result",
     "data": {
      "text/plain": [
       "array(['B', 'D', 'J', 'E', 'I', 'F', 'G', 'H', 'A', 'C'], dtype=object)"
      ]
     },
     "metadata": {},
     "execution_count": 39
    }
   ],
   "metadata": {}
  },
  {
   "cell_type": "code",
   "execution_count": 40,
   "source": [
    "data['Observation Category'].value_counts()"
   ],
   "outputs": [
    {
     "output_type": "execute_result",
     "data": {
      "text/plain": [
       "J    579\n",
       "F    347\n",
       "B    226\n",
       "I    134\n",
       "G    132\n",
       "D     99\n",
       "E     65\n",
       "C     14\n",
       "A      5\n",
       "H      1\n",
       "Name: Observation Category, dtype: int64"
      ]
     },
     "metadata": {},
     "execution_count": 40
    }
   ],
   "metadata": {}
  },
  {
   "cell_type": "code",
   "execution_count": 41,
   "source": [
    "data['Para Subject'].duplicated().sum()"
   ],
   "outputs": [
    {
     "output_type": "execute_result",
     "data": {
      "text/plain": [
       "38"
      ]
     },
     "metadata": {},
     "execution_count": 41
    }
   ],
   "metadata": {}
  },
  {
   "cell_type": "code",
   "execution_count": 42,
   "source": [
    "data.shape"
   ],
   "outputs": [
    {
     "output_type": "execute_result",
     "data": {
      "text/plain": [
       "(1602, 2)"
      ]
     },
     "metadata": {},
     "execution_count": 42
    }
   ],
   "metadata": {}
  },
  {
   "cell_type": "code",
   "execution_count": 43,
   "source": [
    "data.drop_duplicates(keep='last', inplace=True, ignore_index=True, subset=['Para Subject'])"
   ],
   "outputs": [],
   "metadata": {}
  },
  {
   "cell_type": "code",
   "execution_count": 44,
   "source": [
    "data.shape"
   ],
   "outputs": [
    {
     "output_type": "execute_result",
     "data": {
      "text/plain": [
       "(1564, 2)"
      ]
     },
     "metadata": {},
     "execution_count": 44
    }
   ],
   "metadata": {}
  },
  {
   "cell_type": "code",
   "execution_count": 45,
   "source": [
    "mine=\"my name is @karthika\"\r\n",
    "mine.isalpha()\r\n",
    "str1=''.join([i for i in mine if i.isalpha() or i==' '])\r\n",
    "print(str1)"
   ],
   "outputs": [
    {
     "output_type": "stream",
     "name": "stdout",
     "text": [
      "my name is karthika\n"
     ]
    }
   ],
   "metadata": {}
  },
  {
   "cell_type": "code",
   "execution_count": 46,
   "source": [
    "data['Para Subject']=data['Para Subject'].apply(\r\n",
    "    lambda s:''.join([i for i in str(s) if i.isalnum() or i==' '])\r\n",
    ")"
   ],
   "outputs": [
    {
     "output_type": "stream",
     "name": "stderr",
     "text": [
      "C:\\Users\\vskar\\AppData\\Local\\Temp/ipykernel_14932/3745606379.py:1: SettingWithCopyWarning: \n",
      "A value is trying to be set on a copy of a slice from a DataFrame.\n",
      "Try using .loc[row_indexer,col_indexer] = value instead\n",
      "\n",
      "See the caveats in the documentation: https://pandas.pydata.org/pandas-docs/stable/user_guide/indexing.html#returning-a-view-versus-a-copy\n",
      "  data['Para Subject']=data['Para Subject'].apply(\n"
     ]
    }
   ],
   "metadata": {}
  },
  {
   "cell_type": "code",
   "execution_count": 47,
   "source": [
    "data['Para Subject']"
   ],
   "outputs": [
    {
     "output_type": "execute_result",
     "data": {
      "text/plain": [
       "0       Short levy of clinical fees from Dr Ambedakar ...\n",
       "1       Difference Amount of Clinical Fees in respect ...\n",
       "2                  Excess payment of electricity charges \n",
       "3       Excess payment of sanitary charges to BWSSB Rs...\n",
       "4       Noncollection of rent from shops let out in th...\n",
       "                              ...                        \n",
       "1559    Omissions noticed in maintenance of service Re...\n",
       "1560    Nondeposit of ARS revenue receipts of Rs 5603 ...\n",
       "1561    Admissible Bank charges under Arogya Raksha Sa...\n",
       "1562    Unutilized scheme amount and Interest accumula...\n",
       "1563      Non deduction  Income tax at source TDS Rs 7240\n",
       "Name: Para Subject, Length: 1564, dtype: object"
      ]
     },
     "metadata": {},
     "execution_count": 47
    }
   ],
   "metadata": {}
  },
  {
   "cell_type": "code",
   "execution_count": 48,
   "source": [
    "import nltk"
   ],
   "outputs": [],
   "metadata": {}
  },
  {
   "cell_type": "code",
   "execution_count": 49,
   "source": [
    "def remove_stopword(text):\r\n",
    "    stopword=nltk.corpus.stopwords.words('english')\r\n",
    "    stopword.remove('not')\r\n",
    "    a=[w for w in nltk.word_tokenize(text) if w not in stopword]\r\n",
    "    return ' '.join(a)\r\n"
   ],
   "outputs": [],
   "metadata": {}
  },
  {
   "cell_type": "code",
   "execution_count": 50,
   "source": [
    "data['Para Subject'] = data['Para Subject'].apply(remove_stopword)"
   ],
   "outputs": [
    {
     "output_type": "stream",
     "name": "stderr",
     "text": [
      "C:\\Users\\vskar\\AppData\\Local\\Temp/ipykernel_14932/2541523923.py:1: SettingWithCopyWarning: \n",
      "A value is trying to be set on a copy of a slice from a DataFrame.\n",
      "Try using .loc[row_indexer,col_indexer] = value instead\n",
      "\n",
      "See the caveats in the documentation: https://pandas.pydata.org/pandas-docs/stable/user_guide/indexing.html#returning-a-view-versus-a-copy\n",
      "  data['Para Subject'] = data['Para Subject'].apply(remove_stopword)\n"
     ]
    }
   ],
   "metadata": {}
  },
  {
   "cell_type": "code",
   "execution_count": 57,
   "source": [
    "X=data['Para Subject']\r\n",
    "y=data['Observation Category']"
   ],
   "outputs": [],
   "metadata": {}
  },
  {
   "cell_type": "code",
   "execution_count": 58,
   "source": [
    "from sklearn.model_selection import train_test_split\r\n",
    "X_train, X_test, y_train, y_test = train_test_split(X, y, test_size=0.33, random_state=42)"
   ],
   "outputs": [],
   "metadata": {}
  },
  {
   "cell_type": "code",
   "execution_count": 59,
   "source": [
    "from sklearn.feature_extraction.text import TfidfVectorizer\r\n",
    "vectr = TfidfVectorizer(ngram_range=(1,2),min_df=1)\r\n",
    "vectr.fit(X_train)\r\n",
    "vect_X = vectr.transform(X_train)"
   ],
   "outputs": [],
   "metadata": {}
  },
  {
   "cell_type": "code",
   "execution_count": 71,
   "source": [
    "import pickle\r\n",
    "pickle.dump(vectr.vocabulary_,open(\"feature.pkl\",\"wb\"))"
   ],
   "outputs": [],
   "metadata": {}
  },
  {
   "cell_type": "code",
   "execution_count": 60,
   "source": [
    "vect_X"
   ],
   "outputs": [
    {
     "output_type": "execute_result",
     "data": {
      "text/plain": [
       "<1047x6165 sparse matrix of type '<class 'numpy.float64'>'\n",
       "\twith 13886 stored elements in Compressed Sparse Row format>"
      ]
     },
     "metadata": {},
     "execution_count": 60
    }
   ],
   "metadata": {}
  },
  {
   "cell_type": "code",
   "execution_count": 61,
   "source": [
    "from sklearn import preprocessing\r\n",
    "label_encoder = preprocessing.LabelEncoder()\r\n",
    "output= label_encoder.fit_transform(y_train)\r\n"
   ],
   "outputs": [],
   "metadata": {}
  },
  {
   "cell_type": "code",
   "execution_count": 70,
   "source": [
    "import numpy as np\r\n",
    "np.save('classes.npy', label_encoder.classes_)"
   ],
   "outputs": [],
   "metadata": {}
  },
  {
   "cell_type": "code",
   "execution_count": 62,
   "source": [
    "from sklearn.linear_model import LogisticRegression\r\n",
    "model = LogisticRegression()\r\n",
    "clf=model.fit(vect_X,output)\r\n",
    "print(clf.score(vect_X,output)*100)"
   ],
   "outputs": [
    {
     "output_type": "stream",
     "name": "stdout",
     "text": [
      "83.85864374403056\n"
     ]
    }
   ],
   "metadata": {}
  },
  {
   "cell_type": "code",
   "execution_count": 63,
   "source": [
    "y_true=label_encoder.transform(y_test)\r\n",
    "y_pred=clf.predict(vectr.transform(X_test))"
   ],
   "outputs": [],
   "metadata": {}
  },
  {
   "cell_type": "code",
   "execution_count": 64,
   "source": [
    "from sklearn.metrics import confusion_matrix\r\n",
    "confusion_matrix(y_true, y_pred)"
   ],
   "outputs": [
    {
     "output_type": "execute_result",
     "data": {
      "text/plain": [
       "array([[  0,   0,   0,   0,   0,   0,   0,   0,   3],\n",
       "       [  0,  51,   0,   1,   0,   1,   0,   0,  12],\n",
       "       [  0,   1,   0,   0,   0,   0,   0,   0,   0],\n",
       "       [  0,   2,   0,  17,   0,   2,   0,   0,   6],\n",
       "       [  0,   1,   0,   4,   1,   3,   1,   0,  11],\n",
       "       [  0,   3,   0,   1,   0,  54,   0,   2,  64],\n",
       "       [  0,   0,   0,   0,   0,   1,  25,   1,  10],\n",
       "       [  0,   1,   0,   0,   0,   4,   3,   7,  30],\n",
       "       [  0,   7,   0,   0,   0,  18,   1,   2, 166]], dtype=int64)"
      ]
     },
     "metadata": {},
     "execution_count": 64
    }
   ],
   "metadata": {}
  },
  {
   "cell_type": "code",
   "execution_count": 69,
   "source": [
    "import joblib\r\n",
    "joblib.dump(clf, 'model.pkl')"
   ],
   "outputs": [
    {
     "output_type": "execute_result",
     "data": {
      "text/plain": [
       "['model.pkl']"
      ]
     },
     "metadata": {},
     "execution_count": 69
    }
   ],
   "metadata": {}
  }
 ],
 "metadata": {
  "orig_nbformat": 4,
  "language_info": {
   "name": "python",
   "version": "3.8.5",
   "mimetype": "text/x-python",
   "codemirror_mode": {
    "name": "ipython",
    "version": 3
   },
   "pygments_lexer": "ipython3",
   "nbconvert_exporter": "python",
   "file_extension": ".py"
  },
  "kernelspec": {
   "name": "python3",
   "display_name": "Python 3.8.5 64-bit ('myenv': venv)"
  },
  "interpreter": {
   "hash": "90dacb3592b949277f3b8fc5ee6ff3cd41278f35c54a30905b3d8d71cadf210f"
  }
 },
 "nbformat": 4,
 "nbformat_minor": 2
}